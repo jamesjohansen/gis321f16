{
 "cells": [
  {
   "cell_type": "markdown",
   "metadata": {},
   "source": [
    "# Iterables, Conditional Execution, and Files"
   ]
  },
  {
   "cell_type": "code",
   "execution_count": 1,
   "metadata": {
    "collapsed": false
   },
   "outputs": [
    {
     "name": "stdout",
     "output_type": "stream",
     "text": [
      "('My input values are: ', [0, 1, 2, 3, 4, 5, 6, 7, 8, 9])\n",
      "('The mean value is: ', 4)\n"
     ]
    }
   ],
   "source": [
    "x = list(range(10)) # python 2 safe\n",
    "print('My input values are: ', x)\n",
    "\n",
    "summation = 0\n",
    "for i in range(10):\n",
    "    summation += i\n",
    "\n",
    "mean = summation / len(x)\n",
    "print('The mean value is: ', mean)"
   ]
  },
  {
   "cell_type": "code",
   "execution_count": 2,
   "metadata": {
    "collapsed": false
   },
   "outputs": [
    {
     "name": "stdout",
     "output_type": "stream",
     "text": [
      "('The mean value is: ', 4)\n"
     ]
    }
   ],
   "source": [
    "x = list(range(10))\n",
    "summation = 0\n",
    "for i in x:\n",
    "    summation += i\n",
    "\n",
    "mean = summation /len(x)\n",
    "print('The mean value is: ', mean)"
   ]
  },
  {
   "cell_type": "code",
   "execution_count": 3,
   "metadata": {
    "collapsed": false
   },
   "outputs": [
    {
     "name": "stdout",
     "output_type": "stream",
     "text": [
      "('The mean vlaue is: ', 4)\n"
     ]
    }
   ],
   "source": [
    "x = range(10)\n",
    "mean = sum(x) / len(x)\n",
    "print('The mean vlaue is: ', mean)"
   ]
  },
  {
   "cell_type": "markdown",
   "metadata": {},
   "source": [
    "## Continue"
   ]
  },
  {
   "cell_type": "code",
   "execution_count": 5,
   "metadata": {
    "collapsed": false
   },
   "outputs": [
    {
     "name": "stdout",
     "output_type": "stream",
     "text": [
      "(0, 0)\n",
      "(0, 1)\n",
      "(0, 2)\n",
      "(1, 0)\n",
      "(1, 1)\n",
      "(1, 2)\n",
      "(2, 0)\n",
      "(2, 1)\n",
      "(2, 2)\n",
      "(3, 0)\n",
      "(3, 1)\n",
      "(3, 2)\n",
      "(4, 0)\n",
      "(4, 1)\n",
      "(4, 2)\n"
     ]
    }
   ],
   "source": [
    "for i in range(5):\n",
    "    for j in range(3):\n",
    "        print(i, j)"
   ]
  },
  {
   "cell_type": "code",
   "execution_count": 6,
   "metadata": {
    "collapsed": false
   },
   "outputs": [
    {
     "name": "stdout",
     "output_type": "stream",
     "text": [
      "(0, 1)\n",
      "(0, 2)\n",
      "(1, 0)\n",
      "(1, 2)\n",
      "(2, 0)\n",
      "(2, 1)\n",
      "(3, 0)\n",
      "(3, 1)\n",
      "(3, 2)\n",
      "(4, 0)\n",
      "(4, 1)\n",
      "(4, 2)\n"
     ]
    }
   ],
   "source": [
    "for i in range(5):\n",
    "    for j in range(3):\n",
    "        if i == j:\n",
    "            continue\n",
    "        else:\n",
    "            print(i, j)"
   ]
  },
  {
   "cell_type": "markdown",
   "metadata": {},
   "source": [
    "# if else"
   ]
  },
  {
   "cell_type": "code",
   "execution_count": 7,
   "metadata": {
    "collapsed": false
   },
   "outputs": [
    {
     "name": "stdout",
     "output_type": "stream",
     "text": [
      "(0, ' is less than 4')\n",
      "(1, ' is less than 4')\n",
      "(2, ' is less than 4')\n",
      "(3, ' is less than 4')\n"
     ]
    }
   ],
   "source": [
    "x = range(10)\n",
    "for i in x:\n",
    "    if i < 4:\n",
    "        print(i, ' is less than 4')"
   ]
  },
  {
   "cell_type": "code",
   "execution_count": 8,
   "metadata": {
    "collapsed": false
   },
   "outputs": [
    {
     "name": "stdout",
     "output_type": "stream",
     "text": [
      "(0, ' is less than 4')\n",
      "(1, ' is less than 4')\n",
      "(2, ' is less than 4')\n",
      "(3, ' is less than 4')\n",
      "(4, 'is not less than 4')\n",
      "(5, 'is not less than 4')\n",
      "(6, 'is not less than 4')\n",
      "(7, 'is not less than 4')\n",
      "(8, 'is not less than 4')\n",
      "(9, 'is not less than 4')\n"
     ]
    }
   ],
   "source": [
    "x = range(10)\n",
    "for i in x:\n",
    "    if i < 4:\n",
    "        print(i, ' is less than 4')\n",
    "    else:\n",
    "        print(i, 'is not less than 4')"
   ]
  },
  {
   "cell_type": "code",
   "execution_count": 9,
   "metadata": {
    "collapsed": false
   },
   "outputs": [
    {
     "name": "stdout",
     "output_type": "stream",
     "text": [
      "(0, ' is less than 4')\n",
      "(1, ' is less than 4')\n",
      "(2, ' is less than 4')\n",
      "(3, ' is less than 4')\n",
      "(5, 'is greater than 4')\n",
      "(6, 'is greater than 4')\n",
      "(7, 'is greater than 4')\n",
      "(8, 'is greater than 4')\n",
      "(9, 'is greater than 4')\n"
     ]
    }
   ],
   "source": [
    "x = range(10)\n",
    "for i in x:\n",
    "    if i < 4:\n",
    "        print(i, ' is less than 4')\n",
    "    elif i>4:\n",
    "        print(i, 'is greater than 4')"
   ]
  },
  {
   "cell_type": "code",
   "execution_count": 10,
   "metadata": {
    "collapsed": false
   },
   "outputs": [
    {
     "name": "stdout",
     "output_type": "stream",
     "text": [
      "(0, ' is less than 4')\n",
      "(1, ' is less than 4')\n",
      "(2, ' is less than 4')\n",
      "(3, ' is less than 4')\n",
      "(4, 'is equal to 4')\n",
      "(5, 'is greater than 4')\n",
      "(6, 'is greater than 4')\n",
      "(7, 'is greater than 4')\n",
      "(8, 'is greater than 4')\n",
      "(9, 'is greater than 4')\n"
     ]
    }
   ],
   "source": [
    "x = range(10)\n",
    "for i in x:\n",
    "    if i < 4:\n",
    "        print(i, ' is less than 4')\n",
    "    elif i>4:\n",
    "        print(i, 'is greater than 4')\n",
    "    else:\n",
    "        print(i, 'is equal to 4')"
   ]
  },
  {
   "cell_type": "code",
   "execution_count": 12,
   "metadata": {
    "collapsed": false
   },
   "outputs": [
    {
     "name": "stdout",
     "output_type": "stream",
     "text": [
      "(0, ' is less than 4')\n",
      "\tand it is even\n",
      "(1, ' is less than 4')\n",
      "\tand it is odd\n",
      "(2, ' is less than 4')\n",
      "\tand it is even\n",
      "(3, ' is less than 4')\n",
      "\tand it is odd\n",
      "(4, 'is equal to 4')\n",
      "(5, 'is greater than 4')\n",
      "(6, 'is greater than 4')\n",
      "(7, 'is greater than 4')\n",
      "(8, 'is greater than 4')\n",
      "(9, 'is greater than 4')\n"
     ]
    }
   ],
   "source": [
    "x = range(10)\n",
    "for i in x:\n",
    "    if i < 4:\n",
    "        print(i, ' is less than 4')\n",
    "        if i % 2:\n",
    "            print('\\tand it is odd')\n",
    "        else:\n",
    "            print('\\tand it is even')\n",
    "    elif i>4:\n",
    "        print(i, 'is greater than 4')\n",
    "    else:\n",
    "        print(i, 'is equal to 4')"
   ]
  },
  {
   "cell_type": "markdown",
   "metadata": {},
   "source": [
    "## Files"
   ]
  },
  {
   "cell_type": "code",
   "execution_count": 13,
   "metadata": {
    "collapsed": true
   },
   "outputs": [],
   "source": [
    "with open('data/airports.csv', 'r') as f:\n",
    "    lines = f.readlines()\n"
   ]
  },
  {
   "cell_type": "code",
   "execution_count": 14,
   "metadata": {
    "collapsed": false
   },
   "outputs": [
    {
     "data": {
      "text/plain": [
       "6978"
      ]
     },
     "execution_count": 14,
     "metadata": {},
     "output_type": "execute_result"
    }
   ],
   "source": [
    "len(lines)"
   ]
  },
  {
   "cell_type": "code",
   "execution_count": 20,
   "metadata": {
    "collapsed": false
   },
   "outputs": [
    {
     "data": {
      "text/plain": [
       "'1,Goroka,Goroka,Papua New Guinea,GKA,AYGA,-6.081689,145.391881,5282,10,U\\n'"
      ]
     },
     "execution_count": 20,
     "metadata": {},
     "output_type": "execute_result"
    }
   ],
   "source": [
    "lines[1]"
   ]
  },
  {
   "cell_type": "code",
   "execution_count": 15,
   "metadata": {
    "collapsed": true
   },
   "outputs": [],
   "source": [
    "data = []\n",
    "for line in lines:\n",
    "    data.append(line.strip().split(\",\"))"
   ]
  },
  {
   "cell_type": "code",
   "execution_count": 16,
   "metadata": {
    "collapsed": false
   },
   "outputs": [
    {
     "data": {
      "text/plain": [
       "['airport_id',\n",
       " 'name',\n",
       " 'city',\n",
       " 'country',\n",
       " 'iata_faa',\n",
       " 'iaco',\n",
       " 'latitude',\n",
       " 'longitude',\n",
       " 'altitude',\n",
       " 'zone',\n",
       " 'dst']"
      ]
     },
     "execution_count": 16,
     "metadata": {},
     "output_type": "execute_result"
    }
   ],
   "source": [
    "data[0]"
   ]
  },
  {
   "cell_type": "code",
   "execution_count": 17,
   "metadata": {
    "collapsed": false
   },
   "outputs": [
    {
     "name": "stdout",
     "output_type": "stream",
     "text": [
      "['5881', \"Mata'aho Airport\", '\"Angaha', ' Niuafo\\'ou Island\"', 'Tonga', 'NFO', 'NFTO', '-15.5708', '-175.633', '160', '13', 'U']\n",
      "['5675', 'Sao Filipe Airport', '\"Sao Filipe', ' Fogo Island\"', 'Cape Verde', 'SFL', 'GVSF', '14.885', '-24.48', '617', '-1', 'U']\n",
      "['5674', 'Praia International Airport', '\"Praia', ' Santiago Island\"', 'Cape Verde', 'RAI', 'GVNP', '14.9245', '-23.4935', '230', '-1', 'U']\n",
      "['5562', 'Robin Hood Doncaster Sheffield Airport', '\"Doncaster', ' Sheffield\"', 'United Kingdom', 'DSA', 'EGCN', '53.474722', '-1.004444', '55', '0', 'E']\n"
     ]
    }
   ],
   "source": [
    "k = len(data[0])\n",
    "for line in data:\n",
    "    if len(line) != k:\n",
    "        print(line)"
   ]
  },
  {
   "cell_type": "code",
   "execution_count": 21,
   "metadata": {
    "collapsed": false
   },
   "outputs": [
    {
     "name": "stdout",
     "output_type": "stream",
     "text": [
      "(4442, 12, ['5881', \"Mata'aho Airport\", '\"Angaha', ' Niuafo\\'ou Island\"', 'Tonga', 'NFO', 'NFTO', '-15.5708', '-175.633', '160', '13', 'U'])\n",
      "(4647, 12, ['5675', 'Sao Filipe Airport', '\"Sao Filipe', ' Fogo Island\"', 'Cape Verde', 'SFL', 'GVSF', '14.885', '-24.48', '617', '-1', 'U'])\n",
      "(4648, 12, ['5674', 'Praia International Airport', '\"Praia', ' Santiago Island\"', 'Cape Verde', 'RAI', 'GVNP', '14.9245', '-23.4935', '230', '-1', 'U'])\n",
      "(4760, 12, ['5562', 'Robin Hood Doncaster Sheffield Airport', '\"Doncaster', ' Sheffield\"', 'United Kingdom', 'DSA', 'EGCN', '53.474722', '-1.004444', '55', '0', 'E'])\n"
     ]
    }
   ],
   "source": [
    "k = len(data[0])\n",
    "for i,line in enumerate(data):\n",
    "    l_k = len(line)\n",
    "    if l_k != k:\n",
    "        print(i, l_k ,line)"
   ]
  },
  {
   "cell_type": "code",
   "execution_count": 22,
   "metadata": {
    "collapsed": false
   },
   "outputs": [],
   "source": [
    "import csv\n",
    "newlines = []\n",
    "with open('data/airports.csv', 'r') as f:\n",
    "    reader = csv.reader(f)\n",
    "    for line in reader:\n",
    "        newlines.append(line)\n"
   ]
  },
  {
   "cell_type": "code",
   "execution_count": 23,
   "metadata": {
    "collapsed": false
   },
   "outputs": [
    {
     "name": "stdout",
     "output_type": "stream",
     "text": [
      "11\n"
     ]
    }
   ],
   "source": [
    "k = len(newlines[0])\n",
    "print(k)"
   ]
  },
  {
   "cell_type": "code",
   "execution_count": 24,
   "metadata": {
    "collapsed": true
   },
   "outputs": [],
   "source": [
    "for i, line in enumerate(newlines):\n",
    "    l_k = len(line)\n",
    "    if l_k != k:\n",
    "        print(i, l_k, line)"
   ]
  },
  {
   "cell_type": "code",
   "execution_count": 25,
   "metadata": {
    "collapsed": false
   },
   "outputs": [
    {
     "data": {
      "text/plain": [
       "['1',\n",
       " 'Goroka',\n",
       " 'Goroka',\n",
       " 'Papua New Guinea',\n",
       " 'GKA',\n",
       " 'AYGA',\n",
       " '-6.081689',\n",
       " '145.391881',\n",
       " '5282',\n",
       " '10',\n",
       " 'U']"
      ]
     },
     "execution_count": 25,
     "metadata": {},
     "output_type": "execute_result"
    }
   ],
   "source": [
    "newlines[1]"
   ]
  },
  {
   "cell_type": "code",
   "execution_count": 26,
   "metadata": {
    "collapsed": true
   },
   "outputs": [],
   "source": [
    "header = newlines[0]\n",
    "lat = header.index('latitude')\n",
    "lon = header.index('longitude')\n"
   ]
  },
  {
   "cell_type": "code",
   "execution_count": 27,
   "metadata": {
    "collapsed": false
   },
   "outputs": [
    {
     "data": {
      "text/plain": [
       "6"
      ]
     },
     "execution_count": 27,
     "metadata": {},
     "output_type": "execute_result"
    }
   ],
   "source": [
    "lat"
   ]
  },
  {
   "cell_type": "code",
   "execution_count": 28,
   "metadata": {
    "collapsed": false
   },
   "outputs": [
    {
     "data": {
      "text/plain": [
       "7"
      ]
     },
     "execution_count": 28,
     "metadata": {},
     "output_type": "execute_result"
    }
   ],
   "source": [
    "lon"
   ]
  },
  {
   "cell_type": "code",
   "execution_count": 29,
   "metadata": {
    "collapsed": true
   },
   "outputs": [],
   "source": [
    "latitudes = [ line[lat] for line in newlines[1:]]\n",
    "longitudes = [ line[lon] for line in newlines[1:]]"
   ]
  },
  {
   "cell_type": "code",
   "execution_count": 30,
   "metadata": {
    "collapsed": false
   },
   "outputs": [
    {
     "data": {
      "text/plain": [
       "True"
      ]
     },
     "execution_count": 30,
     "metadata": {},
     "output_type": "execute_result"
    }
   ],
   "source": [
    "len(latitudes) == len(longitudes)"
   ]
  },
  {
   "cell_type": "code",
   "execution_count": 31,
   "metadata": {
    "collapsed": false
   },
   "outputs": [
    {
     "data": {
      "text/plain": [
       "6977"
      ]
     },
     "execution_count": 31,
     "metadata": {},
     "output_type": "execute_result"
    }
   ],
   "source": [
    "len(latitudes)"
   ]
  },
  {
   "cell_type": "code",
   "execution_count": 32,
   "metadata": {
    "collapsed": false
   },
   "outputs": [
    {
     "data": {
      "text/plain": [
       "['-6.081689', '-5.207083', '-5.826789']"
      ]
     },
     "execution_count": 32,
     "metadata": {},
     "output_type": "execute_result"
    }
   ],
   "source": [
    "latitudes[0:3]"
   ]
  },
  {
   "cell_type": "code",
   "execution_count": null,
   "metadata": {
    "collapsed": true
   },
   "outputs": [],
   "source": []
  },
  {
   "cell_type": "code",
   "execution_count": 33,
   "metadata": {
    "collapsed": true
   },
   "outputs": [],
   "source": [
    "latitudes = [ float(line[lat]) for line in newlines[1:]]\n",
    "longitudes = [ float(line[lon]) for line in newlines[1:]]"
   ]
  },
  {
   "cell_type": "code",
   "execution_count": 34,
   "metadata": {
    "collapsed": false
   },
   "outputs": [
    {
     "data": {
      "text/plain": [
       "[-6.081689, -5.207083, -5.826789]"
      ]
     },
     "execution_count": 34,
     "metadata": {},
     "output_type": "execute_result"
    }
   ],
   "source": [
    "latitudes[0:3]"
   ]
  },
  {
   "cell_type": "code",
   "execution_count": null,
   "metadata": {
    "collapsed": true
   },
   "outputs": [],
   "source": []
  },
  {
   "cell_type": "code",
   "execution_count": 35,
   "metadata": {
    "collapsed": true
   },
   "outputs": [],
   "source": [
    "# make points\n",
    "\n",
    "points = []\n",
    "for i in range(len(latitudes)):\n",
    "    points.append( (latitudes[i], longitudes[i]))"
   ]
  },
  {
   "cell_type": "code",
   "execution_count": 36,
   "metadata": {
    "collapsed": false
   },
   "outputs": [
    {
     "data": {
      "text/plain": [
       "6977"
      ]
     },
     "execution_count": 36,
     "metadata": {},
     "output_type": "execute_result"
    }
   ],
   "source": [
    "len(points)"
   ]
  },
  {
   "cell_type": "code",
   "execution_count": 37,
   "metadata": {
    "collapsed": false
   },
   "outputs": [
    {
     "data": {
      "text/plain": [
       "[(-6.081689, 145.391881), (-5.207083, 145.7887), (-5.826789, 144.295861)]"
      ]
     },
     "execution_count": 37,
     "metadata": {},
     "output_type": "execute_result"
    }
   ],
   "source": [
    "points[0:3]"
   ]
  },
  {
   "cell_type": "code",
   "execution_count": null,
   "metadata": {
    "collapsed": true
   },
   "outputs": [],
   "source": []
  },
  {
   "cell_type": "code",
   "execution_count": 38,
   "metadata": {
    "collapsed": true
   },
   "outputs": [],
   "source": [
    "\n",
    "points = list(zip(latitudes, longitudes)) #python 3 to python 2"
   ]
  },
  {
   "cell_type": "code",
   "execution_count": 39,
   "metadata": {
    "collapsed": false
   },
   "outputs": [
    {
     "data": {
      "text/plain": [
       "[(-6.081689, 145.391881), (-5.207083, 145.7887), (-5.826789, 144.295861)]"
      ]
     },
     "execution_count": 39,
     "metadata": {},
     "output_type": "execute_result"
    }
   ],
   "source": [
    "points[0:3]"
   ]
  },
  {
   "cell_type": "markdown",
   "metadata": {},
   "source": [
    "# Hints"
   ]
  },
  {
   "cell_type": "code",
   "execution_count": 40,
   "metadata": {
    "collapsed": false
   },
   "outputs": [
    {
     "data": {
      "text/plain": [
       "True"
      ]
     },
     "execution_count": 40,
     "metadata": {},
     "output_type": "execute_result"
    }
   ],
   "source": [
    "# finding the maximum value\n",
    "\n",
    "# find maximum longitude (pretend you didn't know anything about possible bounds)\n",
    "\n",
    "max_value = float('-inf')\n",
    "\n",
    "-2 > max_value\n"
   ]
  },
  {
   "cell_type": "code",
   "execution_count": 41,
   "metadata": {
    "collapsed": true
   },
   "outputs": [],
   "source": [
    "max_lat = float('-inf')\n",
    "max_lon = float('-inf')\n",
    "min_lat = float('inf')\n",
    "min_lon = float('inf')\n",
    "for point in points:\n",
    "    lat, lon = point\n",
    "    if lat > max_lat:\n",
    "        max_lat = lat\n",
    "    if lon > max_lon:\n",
    "        max_lon = lon\n",
    "    if lat < min_lat:\n",
    "        min_lat = lat\n",
    "    if lon < min_lon:\n",
    "        min_lon = lon\n",
    "    "
   ]
  },
  {
   "cell_type": "code",
   "execution_count": 34,
   "metadata": {
    "collapsed": false
   },
   "outputs": [
    {
     "data": {
      "text/plain": [
       "((-89.999997, -179.877), (82.517778, 179.951))"
      ]
     },
     "execution_count": 34,
     "metadata": {},
     "output_type": "execute_result"
    }
   ],
   "source": [
    "((min_lat, min_lon), (max_lat, max_lon))"
   ]
  },
  {
   "cell_type": "markdown",
   "metadata": {},
   "source": [
    "# Exercise 4\n",
    "\n",
    "Find the following airports:\n",
    "\n",
    "1. The western most airport in the northern hemisphere\n",
    "2. The western most airport in the southern hemisphere\n",
    "3. The southern most airport in the western hemisphere\n",
    "4. The northern most airport in the eastern hemisphere\n",
    "\n",
    "\n",
    "\n"
   ]
  },
  {
   "cell_type": "code",
   "execution_count": null,
   "metadata": {
    "collapsed": true
   },
   "outputs": [],
   "source": []
  },
  {
   "cell_type": "code",
   "execution_count": null,
   "metadata": {
    "collapsed": true
   },
   "outputs": [],
   "source": []
  }
 ],
 "metadata": {
  "anaconda-cloud": {},
  "kernelspec": {
   "display_name": "Python 2",
   "language": "python",
   "name": "python2"
  },
  "language_info": {
   "codemirror_mode": {
    "name": "ipython",
    "version": 2
   },
   "file_extension": ".py",
   "mimetype": "text/x-python",
   "name": "python",
   "nbconvert_exporter": "python",
   "pygments_lexer": "ipython2",
   "version": "2.7.12"
  }
 },
 "nbformat": 4,
 "nbformat_minor": 0
}
